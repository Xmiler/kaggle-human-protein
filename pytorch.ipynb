{
 "cells": [
  {
   "cell_type": "code",
   "execution_count": 1,
   "metadata": {},
   "outputs": [],
   "source": [
    "from pathlib import Path\n",
    "from collections import OrderedDict as odict\n",
    "\n",
    "import numpy as np\n",
    "import pandas as pd\n",
    "from sklearn.model_selection import train_test_split\n",
    "from sklearn.metrics import f1_score\n",
    "\n",
    "import torch\n",
    "from torch.utils.data import DataLoader, Subset\n",
    "from torch import nn, optim\n",
    "from torchvision import transforms, models\n",
    "\n",
    "from utils import ProteinDataset\n",
    "\n",
    "\n",
    "import resource\n",
    "rlimit = resource.getrlimit(resource.RLIMIT_NOFILE)\n",
    "resource.setrlimit(resource.RLIMIT_NOFILE, (2048, rlimit[1]))"
   ]
  },
  {
   "cell_type": "code",
   "execution_count": 2,
   "metadata": {},
   "outputs": [],
   "source": [
    "root_dir = Path('/home/xmiler/projects/human-protein-atlas-image-classification/input/')\n",
    "arch = models.resnet50(pretrained=True)\n",
    "device_id = 0\n",
    "score_threshold = 0.5"
   ]
  },
  {
   "cell_type": "code",
   "execution_count": 5,
   "metadata": {},
   "outputs": [],
   "source": []
  },
  {
   "cell_type": "code",
   "execution_count": 3,
   "metadata": {},
   "outputs": [],
   "source": [
    "# DATALOADER\n",
    "# split\n",
    "dataset_size = pd.read_csv(root_dir/'train.csv').shape[0]\n",
    "idxs = {'train': None, 'val': None}\n",
    "idxs['train'], idxs['val'] = train_test_split(np.arange(dataset_size), random_state=0, test_size=0.1)\n",
    "\n",
    "# transforms\n",
    "data_transform = transforms.Compose([    \n",
    "    transforms.Resize(224),\n",
    "    transforms.ToTensor()\n",
    "])\n",
    "\n",
    "# datasets\n",
    "datasets = {phase: ProteinDataset(root_dir / 'train.csv', root_dir / 'train', colors=['red', 'green', 'blue'],\n",
    "                                  idxs=idxs[phase], transforms=data_transform) for phase in ['train', 'val']}\n",
    "\n",
    "# dataloaders\n",
    "\n",
    "dataloaders = {phase: DataLoader(datasets[phase], batch_size=16, num_workers=2, shuffle=(phase=='train')) \n",
    "               for phase in ['train', 'val']}"
   ]
  },
  {
   "cell_type": "code",
   "execution_count": 4,
   "metadata": {},
   "outputs": [],
   "source": [
    "# MODEL\n",
    "\n",
    "class Flatten(nn.Module):\n",
    "    \"Flatten `x` to a single dimension, often used at the end of a model.\"\n",
    "    def __init__(self):\n",
    "        super().__init__()\n",
    "\n",
    "    def forward(self, x):\n",
    "        return x.view((x.size(0), -1)) \n",
    "\n",
    "body = nn.Sequential(*list(arch.children())[:-1])\n",
    "head = nn.Sequential(Flatten(), nn.Linear(2048, 28))\n",
    "\n",
    "model = nn.Sequential(odict([('body', body), ('head', head)]))\n",
    "model.to(device_id)\n",
    "pass"
   ]
  },
  {
   "cell_type": "code",
   "execution_count": null,
   "metadata": {},
   "outputs": [],
   "source": []
  },
  {
   "cell_type": "code",
   "execution_count": 5,
   "metadata": {},
   "outputs": [],
   "source": [
    "num_epochs = 1\n",
    "lrs = [0., 0.1]\n",
    "\n",
    "# optimizer\n",
    "assert len(lrs) == 2\n",
    "optimizer = optim.SGD([{'params': model.body.parameters(), 'lr': None},\n",
    "                       {'params': model.head.parameters(), 'lr': None}],\n",
    "                      momentum=0.9)\n",
    "\n",
    "criterion = nn.MultiLabelSoftMarginLoss()"
   ]
  },
  {
   "cell_type": "code",
   "execution_count": null,
   "metadata": {},
   "outputs": [],
   "source": []
  },
  {
   "cell_type": "code",
   "execution_count": 6,
   "metadata": {},
   "outputs": [],
   "source": [
    "class Trainer:\n",
    "    def __init__(self, dataloaders, model, optimizer, criterion):\n",
    "        self._dataloaders = dataloaders\n",
    "        \n",
    "        self._model=model\n",
    "        \n",
    "        self._optimizer = optimizer\n",
    "        self._criterion = criterion\n",
    "        \n",
    "        self._iter_num = -1\n",
    "        \n",
    "        self.statistics = {\n",
    "            'batch': {'train': {'iter': [], 'lrs': [], 'loss': []}},\n",
    "            'epoch': {'train': {'iter': [], 'loss': [], 'f1_macro': []},\n",
    "                      'val': {'iter': [], 'loss': [], 'f1_macro': []}}\n",
    "        }\n",
    "            \n",
    "    def get_iteration(self):\n",
    "        return self._iter_num\n",
    "    \n",
    "    def train_iteration(self, inputs, labels, lrs):\n",
    "        self._iter_num += 1\n",
    "        \n",
    "        inputs = inputs.to(device_id)\n",
    "        labels = labels.float().to(device_id)\n",
    "        \n",
    "        for i in range(2):\n",
    "            optimizer.param_groups[i]['lr'] = lrs[i]\n",
    "        \n",
    "        self._optimizer.zero_grad()\n",
    "        \n",
    "        with torch.set_grad_enabled(True):\n",
    "            outputs = self._model(inputs)\n",
    "            loss = self._criterion(outputs, labels)\n",
    "\n",
    "            loss.backward()\n",
    "            self._optimizer.step()\n",
    "            \n",
    "            self.statistics['batch']['train']['iter'].append(self._iter_num)\n",
    "            self.statistics['batch']['train']['lrs'].append(lrs)\n",
    "            self.statistics['batch']['train']['loss'].append(loss.item())\n",
    "            \n",
    "    def test_epoch(self, phase):\n",
    "        self.statistics['epoch'][phase]['iter'].append(self.get_iteration())\n",
    "        \n",
    "        loss_epoch = 0\n",
    "        gt_epoch = []\n",
    "        preds_epoch = []\n",
    "        with torch.set_grad_enabled(False):\n",
    "            for inputs, labels in self._dataloaders[phase]:\n",
    "                gt_epoch.append(labels.data.numpy())                \n",
    "                \n",
    "                inputs = inputs.to(device_id)\n",
    "                labels = labels.float().to(device_id)\n",
    "                \n",
    "                outputs = model(inputs)\n",
    "                \n",
    "                preds_epoch.append(outputs.sigmoid().cpu().data.numpy())\n",
    "                \n",
    "                loss = criterion(outputs, labels)\n",
    "                \n",
    "                loss_epoch += loss.item() * inputs.size(0)\n",
    "                \n",
    "        loss_epoch /= len(self._dataloaders[phase].dataset)                \n",
    "        self.statistics['epoch'][phase]['loss'].append(loss_epoch)\n",
    "        \n",
    "        preds_epoch = np.concatenate(preds_epoch)\n",
    "        gt_epoch = np.concatenate(gt_epoch)        \n",
    "        self.statistics['epoch'][phase]['f1_macro'].append(f1_score(gt_epoch, preds_epoch > score_threshold, average='macro'))\n",
    "        "
   ]
  },
  {
   "cell_type": "code",
   "execution_count": 7,
   "metadata": {},
   "outputs": [],
   "source": [
    "trainer = Trainer(dataloaders, model, optimizer, criterion)"
   ]
  },
  {
   "cell_type": "code",
   "execution_count": 8,
   "metadata": {},
   "outputs": [
    {
     "name": "stdout",
     "output_type": "stream",
     "text": [
      "CPU times: user 59.2 s, sys: 19.9 s, total: 1min 19s\n",
      "Wall time: 2min 11s\n"
     ]
    }
   ],
   "source": [
    "%%time\n",
    "\n",
    "trainer.test_epoch('train')"
   ]
  },
  {
   "cell_type": "code",
   "execution_count": 9,
   "metadata": {},
   "outputs": [
    {
     "data": {
      "text/plain": [
       "{'batch': {'train': {'iter': [], 'loss': [], 'lrs': []}},\n",
       " 'epoch': {'train': {'f1_macro': [0.0895852309352233],\n",
       "   'iter': [-1],\n",
       "   'loss': [0.684914509066013]},\n",
       "  'val': {'f1_macro': [], 'iter': [], 'loss': []}}}"
      ]
     },
     "execution_count": 9,
     "metadata": {},
     "output_type": "execute_result"
    }
   ],
   "source": [
    "trainer.statistics"
   ]
  },
  {
   "cell_type": "code",
   "execution_count": 10,
   "metadata": {},
   "outputs": [
    {
     "name": "stdout",
     "output_type": "stream",
     "text": [
      "CPU times: user 6.3 s, sys: 2.26 s, total: 8.56 s\n",
      "Wall time: 18.1 s\n"
     ]
    }
   ],
   "source": [
    "%%time\n",
    "\n",
    "trainer.test_epoch('val')"
   ]
  },
  {
   "cell_type": "code",
   "execution_count": 11,
   "metadata": {},
   "outputs": [
    {
     "data": {
      "text/plain": [
       "{'batch': {'train': {'iter': [], 'loss': [], 'lrs': []}},\n",
       " 'epoch': {'train': {'f1_macro': [0.0895852309352233],\n",
       "   'iter': [-1],\n",
       "   'loss': [0.684914509066013]},\n",
       "  'val': {'f1_macro': [0.08973321109446879],\n",
       "   'iter': [-1],\n",
       "   'loss': [0.6846367205125178]}}}"
      ]
     },
     "execution_count": 11,
     "metadata": {},
     "output_type": "execute_result"
    }
   ],
   "source": [
    "trainer.statistics"
   ]
  }
 ],
 "metadata": {
  "kernelspec": {
   "display_name": "Python 3",
   "language": "python",
   "name": "python3"
  },
  "language_info": {
   "codemirror_mode": {
    "name": "ipython",
    "version": 3
   },
   "file_extension": ".py",
   "mimetype": "text/x-python",
   "name": "python",
   "nbconvert_exporter": "python",
   "pygments_lexer": "ipython3",
   "version": "3.6.7"
  }
 },
 "nbformat": 4,
 "nbformat_minor": 2
}
